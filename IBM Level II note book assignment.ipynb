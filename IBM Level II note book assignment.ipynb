{
    "cells": [
        {
            "cell_type": "markdown",
            "metadata": {},
            "source": "<H1> My Jupyter Notebook on IBM Watson Studio \n\n"
        },
        {
            "cell_type": "markdown",
            "metadata": {},
            "source": "**Michiel Mathijssen** - \n\nconsultant  \n"
        },
        {
            "cell_type": "markdown",
            "metadata": {},
            "source": "*I'm interested in data science because of the relevance that is has to my job. Additionaly I want to become an expert in handling data.* "
        },
        {
            "cell_type": "markdown",
            "metadata": {},
            "source": "<h3> My code is supposed to run and display a simple output."
        },
        {
            "cell_type": "code",
            "execution_count": 6,
            "metadata": {},
            "outputs": [
                {
                    "name": "stdout",
                    "output_type": "stream",
                    "text": "hello world\n"
                }
            ],
            "source": "print(\"hello world\")"
        },
        {
            "cell_type": "markdown",
            "metadata": {
                "collapsed": true
            },
            "source": "1. First ordered list item\n2. Another item\n\n1. Actual numbers don't matter, just that it's a number\n\n4. And another item.\n\n\n* Unordered list can use asterisks\n- Or minuses\n+ Or pluses\n\n[I'm an inline-style link](https://www.google.com)\n\n"
        }
    ],
    "metadata": {
        "kernelspec": {
            "display_name": "Python 3.6",
            "language": "python",
            "name": "python3"
        },
        "language_info": {
            "codemirror_mode": {
                "name": "ipython",
                "version": 3
            },
            "file_extension": ".py",
            "mimetype": "text/x-python",
            "name": "python",
            "nbconvert_exporter": "python",
            "pygments_lexer": "ipython3",
            "version": "3.6.9"
        }
    },
    "nbformat": 4,
    "nbformat_minor": 1
}